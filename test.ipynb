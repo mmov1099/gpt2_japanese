{
 "cells": [
  {
   "cell_type": "code",
   "execution_count": 1,
   "metadata": {},
   "outputs": [],
   "source": [
    "from transformers import T5Tokenizer, AutoModelForCausalLM\n",
    "\n",
    "# トークナイザーとモデルの準備\n",
    "tokenizer = T5Tokenizer.from_pretrained(\"rinna/japanese-gpt2-medium\")\n",
    "model = AutoModelForCausalLM.from_pretrained(\"rinna/japanese-gpt2-medium\")"
   ]
  },
  {
   "cell_type": "code",
   "execution_count": 3,
   "metadata": {},
   "outputs": [
    {
     "name": "stderr",
     "output_type": "stream",
     "text": [
      "Setting `pad_token_id` to `eos_token_id`:2 for open-end generation.\n"
     ]
    },
    {
     "name": "stdout",
     "output_type": "stream",
     "text": [
      "・ キズナアイとは、日本のバーチャルyoutuberである。 youtubeチャンネルにて、オリジナルキャラクター「キズナアイ」によるキャラクターソング「キズナアイ キズナアイのうた」の配信を開始。 2017年9月\n",
      "・ キズナアイとは、日本のバーチャルyoutuber。 愛称は「キズナアイ」。 2019年10月12日、youtuberとしてデビュー。 2019年10月12日、youtuberデビュー。 2019年11月4\n",
      "・ キズナアイとは? キズナアイの動画が無料で視聴できる動画配信サービスを紹介! キズナアイは、youtubeやニコニコ動画などの動画投稿サイトで動画を投稿しています。 キズナアイ\n",
      "・ キズナアイとは、株式会社ブシロード(現・株式会社ブシロード)のアイドル育成プロジェクト『bang dream! 』のオリジナル楽曲で、『ブシロードクリエイティブアワード2015』で優秀賞・グランプリを受賞し\n",
      "・ キズナアイとは、株式会社kadokawaが展開するメディアミックスプロジェクト「キズナアイ×キズナアイ」のマスコットキャラクター。 キズナアイの3人姉妹の次女。 誕生日は7月12日。\n",
      "・ キズナアイとは、日本の声優ユニット。 所属事務所はマウスプロモーション。 マウスプロモーションの新人声優ユニット「マウス☆クリエイト」の第3弾ユニットとして結成された。 ユニット名は、ファンから公募した中から選ばれた。 ユニット名の\n",
      "・ キズナアイとは、バーチャルyoutuberのキズナアイと、バーチャルyoutuberユニットのキズナアイが歌う、テレビアニメ『show by rock!!』のオープニングテーマである。 キズナアイは「バーチャルyoutuber」\n",
      "・ キズナアイとは、2020年10月10日に結成された、日本のバーチャルyoutuberである。 2020年10月10日にキズナアイは、デビュー前のバーチャルyoutuberとしてデビュー。 チャンネル登録者数は5万5千人\n"
     ]
    }
   ],
   "source": [
    "# 推論\n",
    "input = tokenizer.encode(\"キズナアイとは\", return_tensors=\"pt\",add_special_tokens=False) #\"\"以下の文章を生成\n",
    "output = model.generate(input, do_sample=True, max_length=50, num_return_sequences=8,top_k=40,top_p=0.70)\n",
    "for t in tokenizer.batch_decode(output, skip_special_tokens=True):\n",
    "    print('・',t)"
   ]
  }
 ],
 "metadata": {
  "kernelspec": {
   "display_name": "Python 3.8.10 ('myenv': venv)",
   "language": "python",
   "name": "python3"
  },
  "language_info": {
   "codemirror_mode": {
    "name": "ipython",
    "version": 3
   },
   "file_extension": ".py",
   "mimetype": "text/x-python",
   "name": "python",
   "nbconvert_exporter": "python",
   "pygments_lexer": "ipython3",
   "version": "3.8.10"
  },
  "orig_nbformat": 4,
  "vscode": {
   "interpreter": {
    "hash": "db1a2ed6ede07083f07e30f761564ec288cddef03857b5e07deec36872b62008"
   }
  }
 },
 "nbformat": 4,
 "nbformat_minor": 2
}
