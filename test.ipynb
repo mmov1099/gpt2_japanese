{
 "cells": [
  {
   "cell_type": "code",
   "execution_count": 43,
   "metadata": {},
   "outputs": [
    {
     "name": "stderr",
     "output_type": "stream",
     "text": [
      "Setting `pad_token_id` to `eos_token_id`:2 for open-end generation.\n"
     ]
    },
    {
     "name": "stdout",
     "output_type": "stream",
     "text": [
      "分散共分散行列とは、連続的に変化する状態を確率的に分類する為に導入された確率変数である。 状態 s の可算無限小ベクトルに重み付けを行い、各ハイパーパラメータを乗じたものがフリーマン非線形関数となる。\n",
      "分散共分散行列とは、連続的に変化する状態を表現する確率変数である。\n",
      "分散共分散行列とは、2つのベクトルの内積が1になりうる行列のこと。 =1/1と書くこともできる。 行列の次元を (m_integer)で定義する。\n",
      "分散共分散行列とは、1つの直線に2つの直線が合流するような行列である。\n",
      "分散共分散行列とは、連続的に変化するデータの列のことであり、この行列の個数を増やすと、その個数に比例して、その空間に出現するデータの数も増加する。\n",
      "分散共分散行列とは、ある固定された状態ベクトルと、その固有値からなる行列である。 固定された状態ベクトルと固有値からなる行列は、一般には非線形活性化関数()によって表される。\n",
      "分散共分散行列とは、1つのベクトルに掛け算してできる行列である。 次元が小さいほど、共分散は小さくなる。\n",
      "分散共分散行列とは、行列の次元が2の空間上を伝播する伝播関数のことである。 次元が2の空間上を伝播するので、空間上のある時点での1つの直線の値は、その空間上の別の直線の値を近似する。 言い換えれば、ある時点での1つの直線の値は、その空間上の別の直線の値を近似する。\n"
     ]
    }
   ],
   "source": [
    "from transformers import T5Tokenizer, AutoModelForCausalLM\n",
    "\n",
    "# トークナイザーとモデルの準備\n",
    "tokenizer = T5Tokenizer.from_pretrained(\"rinna/japanese-gpt2-medium\")\n",
    "model = AutoModelForCausalLM.from_pretrained(\"output25/\")\n",
    "\n",
    "# 推論\n",
    "input = tokenizer.encode(\"分散共分散行列とは\", return_tensors=\"pt\",add_special_tokens=False) #\"\"以下の文章を生成\n",
    "output = model.generate(input, do_sample=True, max_length=100, num_return_sequences=8,top_k=40,top_p=0.70)\n",
    "for t in tokenizer.batch_decode(output, skip_special_tokens=True):\n",
    "    print(t)"
   ]
  }
 ],
 "metadata": {
  "kernelspec": {
   "display_name": "Python 3.8.8 ('venv': venv)",
   "language": "python",
   "name": "python3"
  },
  "language_info": {
   "codemirror_mode": {
    "name": "ipython",
    "version": 3
   },
   "file_extension": ".py",
   "mimetype": "text/x-python",
   "name": "python",
   "nbconvert_exporter": "python",
   "pygments_lexer": "ipython3",
   "version": "3.8.8"
  },
  "orig_nbformat": 4,
  "vscode": {
   "interpreter": {
    "hash": "f993f80868cb73fae971b49b3592661bfa2fda0e269bcddf87c24932f8a3e9a2"
   }
  }
 },
 "nbformat": 4,
 "nbformat_minor": 2
}
