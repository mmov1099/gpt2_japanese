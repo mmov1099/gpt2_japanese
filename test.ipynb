{
 "cells": [
  {
   "cell_type": "code",
   "execution_count": 13,
   "metadata": {},
   "outputs": [
    {
     "name": "stderr",
     "output_type": "stream",
     "text": [
      "Setting `pad_token_id` to `eos_token_id`:2 for open-end generation.\n"
     ]
    },
    {
     "name": "stdout",
     "output_type": "stream",
     "text": [
      "['ニューラルネットワークは脳の神経細胞を模して考えられた機械学習アルゴリズムである。 は、神経細胞を模して作られたニューラルネットワークである。 は、神経細胞を模して作られたニューラルネットワークである。 は、enerative dversarial etwork ()とenerative dversarial etwork ()の2つのネットワークから構成される。', 'ニューラルネットワークは脳の神経細胞を模して考えられた機械学習アルゴリズムである。 は、神経細胞を模して作られたニューラルネットワークである。', 'ニューラルネットワークは脳の神経細胞を模して考えられた機械学習アルゴリズムです。現在は研究や開発が急速に進んでおり、さまざまな分野で応用されています。今回は、そんなニューラルネットワークのなかでも特に発展が著しい「畳み込みニューラルネットワーク(C)」について解説します。', 'ニューラルネットワークは入力を線形変換する処理単位からなる。 このニューラルネットワークは、入力層と出力層の2層からなる。', 'ニューラルネットワークは入力を一度だけ出力するネットワークである。', 'ニューラルネットワークは脳の神経細胞を模して考えられた機械学習アルゴリズムである。 は(a|b|c|d)の入力をと比較し、その出力をニューロンの出力とする。', 'ニューラルネットワークは脳の神経細胞を模して考えられた機械学習アルゴリズムである。 は神経細胞を模して作られた機械学習アルゴリズムであり、ニューラルネットワークによって、個々の細胞の特性を学習していく。', 'ニューラルネットワークは脳の神経細胞を模して考えられた機械学習アルゴリズムです。']\n"
     ]
    }
   ],
   "source": [
    "from transformers import T5Tokenizer, AutoModelForCausalLM\n",
    "\n",
    "# トークナイザーとモデルの準備\n",
    "tokenizer = T5Tokenizer.from_pretrained(\"rinna/japanese-gpt2-medium\")\n",
    "model = AutoModelForCausalLM.from_pretrained(\"output/\")\n",
    "\n",
    "# 推論\n",
    "input = tokenizer.encode(\"ニューラルネットワークは\", return_tensors=\"pt\",add_special_tokens=False) #\"\"以下の文章を生成\n",
    "output = model.generate(input, do_sample=True, max_length=100, num_return_sequences=8,top_k=40,top_p=0.70)\n",
    "print(tokenizer.batch_decode(output, skip_special_tokens=True))"
   ]
  }
 ],
 "metadata": {
  "kernelspec": {
   "display_name": "Python 3.8.8 ('venv': venv)",
   "language": "python",
   "name": "python3"
  },
  "language_info": {
   "codemirror_mode": {
    "name": "ipython",
    "version": 3
   },
   "file_extension": ".py",
   "mimetype": "text/x-python",
   "name": "python",
   "nbconvert_exporter": "python",
   "pygments_lexer": "ipython3",
   "version": "3.8.8"
  },
  "orig_nbformat": 4,
  "vscode": {
   "interpreter": {
    "hash": "f993f80868cb73fae971b49b3592661bfa2fda0e269bcddf87c24932f8a3e9a2"
   }
  }
 },
 "nbformat": 4,
 "nbformat_minor": 2
}
